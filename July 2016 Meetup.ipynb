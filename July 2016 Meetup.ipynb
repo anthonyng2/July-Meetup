{
 "cells": [
  {
   "cell_type": "markdown",
   "metadata": {
    "nbpresent": {
     "id": "075db231-5655-4db0-858f-3c5ac3517223"
    }
   },
   "source": [
    "# 2016 July Meetup. Theme: Backtest / Q IDE\n",
    "\n",
    "\n",
    "# Introduction\n",
    "\n",
    "Anthony Ng\n",
    "\n",
    "Twitter: @algo_hunter\n",
    "\n",
    "git: github.com/anthonyng2\n",
    "\n",
    "email: anthonytyng@gmail.com\n",
    "\n",
    "linkedin: https://sg.linkedin.com/in/anthony-ng-7b03bb6\n",
    "\n",
    "# Just to stress: I am not legally affiliated with Quantopian\n",
    "\n"
   ]
  },
  {
   "cell_type": "markdown",
   "metadata": {
    "nbpresent": {
     "id": "5cdecc15-7405-47c6-8af5-67b65b4179d1"
    }
   },
   "source": [
    "## Introduction to Q Platform\n",
    "* [Community](https://www.quantopian.com/posts)\n",
    "* [API](https://www.quantopian.com/help)\n",
    "* [Datasets](https://www.quantopian.com/data)\n",
    "* [Contest](https://www.quantopian.com/open)\n",
    "* [Quantopian Managers Program](https://www.quantopian.com/fund)\n",
    "* [Tutorial](https://www.quantopian.com/tutorials)\n",
    "* [IDE](https://www.quantopian.com/algorithms)\n",
    "* [Q Research Environment / Jupyter Notebook](https://www.quantopian.com/research)"
   ]
  },
  {
   "cell_type": "markdown",
   "metadata": {
    "nbpresent": {
     "id": "d838effe-32c8-45d7-91c1-5f0a3384b3ce"
    }
   },
   "source": [
    "# Backtesting\n",
    "## What is Backtesting?\n",
    "\n",
    "Backtesting is the process of testing a trading strategy on prior time periods. Instead of applying a strategy for the time period forward, which could take years, a trader can do a simulation of his or her trading strategy on relevant **past data** in order to gauge the its effectiveness.\n",
    "\n",
    "Source: [Investopedia](http://www.investopedia.com/terms/b/backtesting.asp)\n",
    "\n",
    "\n"
   ]
  },
  {
   "cell_type": "markdown",
   "metadata": {
    "nbpresent": {
     "id": "fa834a1d-292d-4cc4-95a1-b6d34a9b6eab"
    }
   },
   "source": [
    "## Performance Measure\n",
    "* Total Returns\n",
    "* Benchmark Returns\n",
    "* Alpha\n",
    "* Beta\n",
    "* [Sharpe Ratio](https://en.wikipedia.org/wiki/Sharpe_ratio). $S=\\frac{E(r) - r_f}{\\sigma}$\n",
    "* [Sortino Ratio](https://en.wikipedia.org/wiki/Sortino_ratio). $S=\\frac{E(r) - DTR}{TDD}$\n",
    "    * DTR = Desired Target Return\n",
    "    * TDD = Target Downside Deviation\n",
    "* [Information Ratio](https://en.wikipedia.org/wiki/Information_ratio). $S=\\frac{E(r) - B}{\\sigma}$\n",
    "    * B = Benchmark return\n",
    "* Volatility\n",
    "* Maximum drawdown"
   ]
  },
  {
   "cell_type": "markdown",
   "metadata": {
    "nbpresent": {
     "id": "9746d90f-cd58-4d1d-a61c-cc32a5dd1b15"
    }
   },
   "source": [
    "\n",
    "## Backtest Pitfalls\n",
    "* Survivorship Bias\n",
    "* Look-Ahead Biad or Using Future / Concurrent Data\n",
    "* Data-Snooping Bias or Overfit\n",
    "\n",
    "## Solution\n",
    "* Walk forward or Out of Sample Testing. However..."
   ]
  },
  {
   "cell_type": "markdown",
   "metadata": {
    "nbpresent": {
     "id": "511349cb-eb5f-4bc4-be0c-aae90808767b"
    }
   },
   "source": [
    "# Some Interesting Ideas\n",
    "\n",
    "  1. [Sample Algorithms](https://www.quantopian.com/help)\n",
    "     * [Basic Algorithm](https://www.quantopian.com/help#sample-basic)\n",
    "     * Mean Reversion Example\n",
    "     * TA-Lib Example\n",
    "     * [Lecture Series](https://www.quantopian.com/lectures)\n",
    "  2. [Quantopian Trading Strategy Series: Are Earnings Predictable? Jul 2016](https://www.quantopian.com/posts/quantpedia-trading-strategy-series-are-earnings-predictable)\n",
    "     * [Quantpedia](http://quantpedia.com/)\n",
    "  3. [Just Another Volatility Strategy Jun 2016](https://www.quantopian.com/posts/javols-just-another-volatility-strategy-dot-dot-dot)\n",
    "  4. [Long/Short PEAD with News Sentiment and the Street's Consensus Jul 2016](https://www.quantopian.com/posts/long-slash-short-pead-with-news-sentiment-and-the-streets-consensus)\n",
    "  5. [Turtle Trading Strategy Jul 2013](https://www.quantopian.com/posts/turtle-trading-strategy)\n",
    "  6. [Quantopian Lecture Series: Long-Short Equity Algorithm Jan 2016](https://www.quantopian.com/posts/quantopian-lecture-series-long-short-equity-algorithm)\n",
    "  7. [Long/Short Cross-Sectional Momentum Jun 2015](https://www.quantopian.com/posts/long-slash-short-cross-sectional-momentum)\n",
    "  8. [Tradeable500s Jun 2016](https://www.quantopian.com/posts/the-tradeable500us-is-almost-here)\n",
    "  9. [Access Twitter and StockTwits Trader Mood data for Free Jun 2016](https://www.quantopian.com/posts/access-twitter-and-stocktwits-trader-mood-data-for-free-and-speaking-opportunity)\n",
    "  10. [Uncorrelate those models Jun 2016](https://www.quantopian.com/posts/uncorrelate-those-models-seattle-slash-portland-meetup-talk)\n",
    "  11. [An Empirical Evaluation of Technical Analysis May 2016](https://www.quantopian.com/posts/an-empirical-algorithmic-evaluation-of-technical-analysis)"
   ]
  },
  {
   "cell_type": "markdown",
   "metadata": {
    "nbpresent": {
     "id": "c9b53faf-5398-451e-bba4-d58a7bb799aa"
    }
   },
   "source": [
    "If we have time...\n",
    "\n",
    "[Pyfolio Post](https://www.quantopian.com/posts/new-feature-comprehensive-backtest-analysis)\n",
    "\n",
    "[Pyfolio Git](http://quantopian.github.io/pyfolio/)\n",
    "\n"
   ]
  }
 ],
 "metadata": {
  "anaconda-cloud": {},
  "kernelspec": {
   "display_name": "Python 3",
   "language": "python",
   "name": "python3"
  },
  "language_info": {
   "codemirror_mode": {
    "name": "ipython",
    "version": 3
   },
   "file_extension": ".py",
   "mimetype": "text/x-python",
   "name": "python",
   "nbconvert_exporter": "python",
   "pygments_lexer": "ipython3",
   "version": "3.5.1"
  },
  "nbpresent": {
   "slides": {
    "0044d521-b562-48bb-abb1-987f9a636c1a": {
     "id": "0044d521-b562-48bb-abb1-987f9a636c1a",
     "prev": "86b4e6d2-4c44-40db-b0a1-87dbf9e2ce06",
     "regions": {
      "cf54b5d4-00c4-4054-86bb-9b4f65eecc4f": {
       "attrs": {
        "height": 0.8,
        "width": 0.8,
        "x": 0.1,
        "y": 0.1
       },
       "content": {
        "cell": "fa834a1d-292d-4cc4-95a1-b6d34a9b6eab",
        "part": "whole"
       },
       "id": "cf54b5d4-00c4-4054-86bb-9b4f65eecc4f"
      }
     }
    },
    "1c6565d7-ddd2-473e-a7d6-1c1215d355c7": {
     "id": "1c6565d7-ddd2-473e-a7d6-1c1215d355c7",
     "prev": "9272cd1c-40bd-46ff-8c6b-960039b56690",
     "regions": {
      "6adf7d80-224b-480c-a173-bf995067f403": {
       "attrs": {
        "height": 0.8,
        "width": 0.8,
        "x": 0.1,
        "y": 0.1
       },
       "content": {
        "cell": "c9b53faf-5398-451e-bba4-d58a7bb799aa",
        "part": "whole"
       },
       "id": "6adf7d80-224b-480c-a173-bf995067f403"
      }
     }
    },
    "229a8440-1ceb-4036-a0ae-5cb0a2e5a702": {
     "id": "229a8440-1ceb-4036-a0ae-5cb0a2e5a702",
     "prev": "0044d521-b562-48bb-abb1-987f9a636c1a",
     "regions": {
      "408b1844-5112-452e-bd87-bc977f2219b0": {
       "attrs": {
        "height": 0.8,
        "width": 0.8,
        "x": 0.1,
        "y": 0.1
       },
       "content": {
        "cell": "9746d90f-cd58-4d1d-a61c-cc32a5dd1b15",
        "part": "whole"
       },
       "id": "408b1844-5112-452e-bd87-bc977f2219b0"
      }
     }
    },
    "28c7dd2d-ae59-467e-8717-67d2cdf969fa": {
     "id": "28c7dd2d-ae59-467e-8717-67d2cdf969fa",
     "prev": "ec3ebe11-2b57-412c-88e9-8c32b7ec9a69",
     "regions": {
      "12543920-0339-4c32-bfd8-9c0f497df21c": {
       "attrs": {
        "height": 0.8,
        "width": 0.8,
        "x": 0.1,
        "y": 0.1
       },
       "content": {
        "cell": "5cdecc15-7405-47c6-8af5-67b65b4179d1",
        "part": "whole"
       },
       "id": "12543920-0339-4c32-bfd8-9c0f497df21c"
      }
     }
    },
    "86b4e6d2-4c44-40db-b0a1-87dbf9e2ce06": {
     "id": "86b4e6d2-4c44-40db-b0a1-87dbf9e2ce06",
     "prev": "28c7dd2d-ae59-467e-8717-67d2cdf969fa",
     "regions": {
      "335a34d4-128e-420c-9cd2-6e49e30dba8f": {
       "attrs": {
        "height": 0.8,
        "width": 0.8,
        "x": 0.1,
        "y": 0.1
       },
       "content": {
        "cell": "d838effe-32c8-45d7-91c1-5f0a3384b3ce",
        "part": "whole"
       },
       "id": "335a34d4-128e-420c-9cd2-6e49e30dba8f"
      }
     }
    },
    "9272cd1c-40bd-46ff-8c6b-960039b56690": {
     "id": "9272cd1c-40bd-46ff-8c6b-960039b56690",
     "prev": "229a8440-1ceb-4036-a0ae-5cb0a2e5a702",
     "regions": {
      "c82be8e7-3868-44b0-befe-97a310f926fe": {
       "attrs": {
        "height": 0.8,
        "width": 0.8,
        "x": 0.1,
        "y": 0.1
       },
       "content": {
        "cell": "511349cb-eb5f-4bc4-be0c-aae90808767b",
        "part": "whole"
       },
       "id": "c82be8e7-3868-44b0-befe-97a310f926fe"
      }
     }
    },
    "e51608b4-4915-414d-96df-8513726b9604": {
     "id": "e51608b4-4915-414d-96df-8513726b9604",
     "prev": "1c6565d7-ddd2-473e-a7d6-1c1215d355c7",
     "regions": {
      "445c4fe6-9efa-4082-8d88-56e2a444274d": {
       "attrs": {
        "height": 0.8,
        "width": 0.8,
        "x": 0.1,
        "y": 0.1
       },
       "content": {
        "cell": "061cfa04-9c4e-4a89-86f9-1a8a4212a992",
        "part": "whole"
       },
       "id": "445c4fe6-9efa-4082-8d88-56e2a444274d"
      }
     }
    },
    "ec3ebe11-2b57-412c-88e9-8c32b7ec9a69": {
     "id": "ec3ebe11-2b57-412c-88e9-8c32b7ec9a69",
     "prev": null,
     "regions": {
      "e89f2c25-31df-4325-84a9-6bf391c9524a": {
       "attrs": {
        "height": 0.8,
        "width": 0.8,
        "x": 0.1,
        "y": 0.1
       },
       "content": {
        "cell": "075db231-5655-4db0-858f-3c5ac3517223",
        "part": "whole"
       },
       "id": "e89f2c25-31df-4325-84a9-6bf391c9524a"
      }
     }
    }
   },
   "themes": {}
  }
 },
 "nbformat": 4,
 "nbformat_minor": 0
}
